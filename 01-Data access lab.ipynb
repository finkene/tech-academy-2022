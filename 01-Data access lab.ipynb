{
    "cells": [
        {
            "metadata": {
                "collapsed": true
            },
            "cell_type": "markdown",
            "source": "# Data access\nThis notebook demonstrate access to different data types:\n- csv file using Pandas\n- Zip file\n- Connection\n- Connected data\n\nThe data access is only done using Pandas dataframe. Other sections of the Trustworthy AI lab\nwill demonstrate how data can be read using Spark dataframes.\n\n\n<img src=\"https://cp4d-outcomes.techzone.ibm.com/img/data-fabric-lab/trusted-ai/find_and_add_data.png\" width=400 align=left>"
        },
        {
            "metadata": {},
            "cell_type": "markdown",
            "source": "Click the **Find and add data** icon in the upper right corner of the screen (it looks like a grid of ones and zeroes). The **Data** window will open. Under the **Files** tab, you can see files including:\n- modeling_records_2022.csv\n- Demofiles.zip\n- TESTING\n\nNote that the TESTING asset is actually the connected data from previous steps in the lab.\n\nUnder the connections tab you can find:\n- Db2"
        },
        {
            "metadata": {},
            "cell_type": "code",
            "source": "# import needed libraries\nimport pandas as pd\nimport numpy as np\n\nimport zipfile\nfrom io import BytesIO",
            "execution_count": 1,
            "outputs": []
        },
        {
            "metadata": {},
            "cell_type": "markdown",
            "source": "## Accessing a csv file as a Pandas dataframe\n\nPlace your cursor in the empty code cell below. If the **Data** window is not already open on the right side of the screen, click the **Find and add data** button in the upper right corner of the screen to open it. Select the **Files** tab, and use the **Insert to code** dropdown beneath the **modeling_records_2022.csv** file to select **pandas DataFrame**. Several lines of code containing an API key, authorization endpoint, and connection information for the file will be added to the cell. Finally, the contents of the file will be read into a pandas dataframe, likely called `df_data_1`."
        },
        {
            "metadata": {},
            "cell_type": "code",
            "source": "\nimport os, types\nimport pandas as pd\nfrom botocore.client import Config\nimport ibm_boto3\n\ndef __iter__(self): return 0\n\n# @hidden_cell\n# The following code accesses a file in your IBM Cloud Object Storage. It includes your credentials.\n# You might want to remove those credentials before you share the notebook.\ncos_client = ibm_boto3.client(service_name='s3',\n    ibm_api_key_id='GRaZyuLQCMpsSXENDRDtbwaDmOxz8c3CB3Sy-Pieoq9P',\n    ibm_auth_endpoint=\"https://iam.cloud.ibm.com/oidc/token\",\n    config=Config(signature_version='oauth'),\n    endpoint_url='https://s3.private.us.cloud-object-storage.appdomain.cloud')\n\nbucket = 'trustedaimlopslab-donotdelete-pr-tthg0yisatikjo'\nobject_key = 'modeling_records_2022.csv'\n\nbody = cos_client.get_object(Bucket=bucket,Key=object_key)['Body']\n# add missing __iter__ method, so pandas accepts body as file-like object\nif not hasattr(body, \"__iter__\"): body.__iter__ = types.MethodType( __iter__, body )\n\ndf_data_1 = pd.read_csv(body)\ndf_data_1.head()\n",
            "execution_count": 2,
            "outputs": [
                {
                    "output_type": "execute_result",
                    "execution_count": 2,
                    "data": {
                        "text/plain": "   POSITION_CODE  DEPARTMENT_CODE  DAYS_WITH_COMPANY  COMMUTE_TIME  \\\n0           1200              200               1825            29   \n1           1200              200               2615             0   \n2           1300              320               1609            30   \n3           1300              320               2035            13   \n4           1400              380               1885            31   \n\n   AGE_BEGIN_PERIOD  GENDER_CODE  ATTRITION  PERIOD_TOTAL_DAYS  \\\n0                55            0          0                330   \n1                49            0          0                180   \n2                44            1          0                330   \n3                45            0          0                330   \n4                44            0          0                330   \n\n   STARTING_SALARY  ENDING_SALARY  ...  VACATION_DAYS_TAKEN  SICK_DAYS_TAKEN  \\\n0        159230.77      161538.46  ...                   28             10.5   \n1        181153.85      183846.15  ...                   15              4.0   \n2        129692.31      132923.08  ...                   20             15.0   \n3        146769.23      150461.54  ...                   28              8.0   \n4        146769.23      150461.54  ...                   26             11.5   \n\n   PROMOTIONS  NB_MANAGERS  DAYS_IN_POSITION  DAYS_SINCE_LAST_RAISE  \\\n0           0            1              1825                      0   \n1           0            1              2615                     60   \n2           0            1              1609                    150   \n3           0            1              2035                    210   \n4           0            1              1885                     60   \n\n   RANKING_CODE  OVERTIME  DBLOVERTIME  TRAVEL  \n0             3       0.0          0.0       0  \n1             3       0.0          0.0       0  \n2             3       0.0          0.0       0  \n3             3       0.0          0.0       0  \n4             3       0.0          0.0       0  \n\n[5 rows x 23 columns]",
                        "text/html": "<div>\n<style scoped>\n    .dataframe tbody tr th:only-of-type {\n        vertical-align: middle;\n    }\n\n    .dataframe tbody tr th {\n        vertical-align: top;\n    }\n\n    .dataframe thead th {\n        text-align: right;\n    }\n</style>\n<table border=\"1\" class=\"dataframe\">\n  <thead>\n    <tr style=\"text-align: right;\">\n      <th></th>\n      <th>POSITION_CODE</th>\n      <th>DEPARTMENT_CODE</th>\n      <th>DAYS_WITH_COMPANY</th>\n      <th>COMMUTE_TIME</th>\n      <th>AGE_BEGIN_PERIOD</th>\n      <th>GENDER_CODE</th>\n      <th>ATTRITION</th>\n      <th>PERIOD_TOTAL_DAYS</th>\n      <th>STARTING_SALARY</th>\n      <th>ENDING_SALARY</th>\n      <th>...</th>\n      <th>VACATION_DAYS_TAKEN</th>\n      <th>SICK_DAYS_TAKEN</th>\n      <th>PROMOTIONS</th>\n      <th>NB_MANAGERS</th>\n      <th>DAYS_IN_POSITION</th>\n      <th>DAYS_SINCE_LAST_RAISE</th>\n      <th>RANKING_CODE</th>\n      <th>OVERTIME</th>\n      <th>DBLOVERTIME</th>\n      <th>TRAVEL</th>\n    </tr>\n  </thead>\n  <tbody>\n    <tr>\n      <th>0</th>\n      <td>1200</td>\n      <td>200</td>\n      <td>1825</td>\n      <td>29</td>\n      <td>55</td>\n      <td>0</td>\n      <td>0</td>\n      <td>330</td>\n      <td>159230.77</td>\n      <td>161538.46</td>\n      <td>...</td>\n      <td>28</td>\n      <td>10.5</td>\n      <td>0</td>\n      <td>1</td>\n      <td>1825</td>\n      <td>0</td>\n      <td>3</td>\n      <td>0.0</td>\n      <td>0.0</td>\n      <td>0</td>\n    </tr>\n    <tr>\n      <th>1</th>\n      <td>1200</td>\n      <td>200</td>\n      <td>2615</td>\n      <td>0</td>\n      <td>49</td>\n      <td>0</td>\n      <td>0</td>\n      <td>180</td>\n      <td>181153.85</td>\n      <td>183846.15</td>\n      <td>...</td>\n      <td>15</td>\n      <td>4.0</td>\n      <td>0</td>\n      <td>1</td>\n      <td>2615</td>\n      <td>60</td>\n      <td>3</td>\n      <td>0.0</td>\n      <td>0.0</td>\n      <td>0</td>\n    </tr>\n    <tr>\n      <th>2</th>\n      <td>1300</td>\n      <td>320</td>\n      <td>1609</td>\n      <td>30</td>\n      <td>44</td>\n      <td>1</td>\n      <td>0</td>\n      <td>330</td>\n      <td>129692.31</td>\n      <td>132923.08</td>\n      <td>...</td>\n      <td>20</td>\n      <td>15.0</td>\n      <td>0</td>\n      <td>1</td>\n      <td>1609</td>\n      <td>150</td>\n      <td>3</td>\n      <td>0.0</td>\n      <td>0.0</td>\n      <td>0</td>\n    </tr>\n    <tr>\n      <th>3</th>\n      <td>1300</td>\n      <td>320</td>\n      <td>2035</td>\n      <td>13</td>\n      <td>45</td>\n      <td>0</td>\n      <td>0</td>\n      <td>330</td>\n      <td>146769.23</td>\n      <td>150461.54</td>\n      <td>...</td>\n      <td>28</td>\n      <td>8.0</td>\n      <td>0</td>\n      <td>1</td>\n      <td>2035</td>\n      <td>210</td>\n      <td>3</td>\n      <td>0.0</td>\n      <td>0.0</td>\n      <td>0</td>\n    </tr>\n    <tr>\n      <th>4</th>\n      <td>1400</td>\n      <td>380</td>\n      <td>1885</td>\n      <td>31</td>\n      <td>44</td>\n      <td>0</td>\n      <td>0</td>\n      <td>330</td>\n      <td>146769.23</td>\n      <td>150461.54</td>\n      <td>...</td>\n      <td>26</td>\n      <td>11.5</td>\n      <td>0</td>\n      <td>1</td>\n      <td>1885</td>\n      <td>60</td>\n      <td>3</td>\n      <td>0.0</td>\n      <td>0.0</td>\n      <td>0</td>\n    </tr>\n  </tbody>\n</table>\n<p>5 rows \u00d7 23 columns</p>\n</div>"
                    },
                    "metadata": {}
                }
            ]
        },
        {
            "metadata": {},
            "cell_type": "markdown",
            "source": "## Accessing a zip file using the streaming body object\n\nThe **Demofiles.zip** file is not in columnar format, and cannot be read into a dataframe. Instead, you can access the data by using a **StreamingBody** object.\n\nOnce you have imported the file into a **StreamingBody** object, you can extract the file content to the notebook's local filesystem, which allows the notebook to use the assets in it.\n\nPlace your cursor in the empty code cell below. If the **Data** window is not already open on the right side of the screen, click the **Find and add data** button in the upper right corner of the screen to open it. Select the **Files** tab, and use the **Insert to code** dropdown beneath the **Demofiles.zip** file to select **StreamingBody object**. Several lines of code containing an API key, authorization endpoint, and connection information for the file will be added to the cell. Finally, the contents of the file will be read into a pandas dataframe, likely called `streaming_body_2`.\n\n**<span style=\"color:red\">Before you run the cell with the generated code</span>**, edit it to ensure that it uses the `streaming_body_2` variable. The last code line before the comments should look like this:\n`streaming_body_2 = client_...`"
        },
        {
            "metadata": {},
            "cell_type": "code",
            "source": "",
            "execution_count": null,
            "outputs": []
        },
        {
            "metadata": {},
            "cell_type": "markdown",
            "source": "Run the code cell above, loading data into the `streaming_body_2` variable, then run the three cells below to unzip the file into the notebook's local file system, verify that the files are available, and then remove them."
        },
        {
            "metadata": {},
            "cell_type": "code",
            "source": "# Unzipping the file using the streaming body\nmyzip = zipfile.ZipFile(BytesIO(streaming_body_2.read()))\nmyzip.extractall('.')",
            "execution_count": null,
            "outputs": []
        },
        {
            "metadata": {
                "scrolled": true
            },
            "cell_type": "code",
            "source": "# List the content of the current directory from the local filesystem\n!ls -lR",
            "execution_count": null,
            "outputs": []
        },
        {
            "metadata": {},
            "cell_type": "code",
            "source": "# remove all files and directories from the current directory of the local filesystem\n!rm -rf *",
            "execution_count": null,
            "outputs": []
        },
        {
            "metadata": {},
            "cell_type": "markdown",
            "source": "## Loading a file to local storage\nTo load a file into the notebook's local storage, you have to use a streaming body just like in the previous section, except that instead of extracting the file content directly to the filesystem, \nyou will save it as a file.\n\nAs you did previously, place your cursor in the empty code cell below. If the **Data** window is not already open on the right side of the screen, click the **Find and add data** button in the upper right corner of the screen to open it. Select the **Files** tab, and use the **Insert to code** dropdown beneath the **Demofiles.zip** file to select **StreamingBody object**. **<span style=\"color:red\">Once again, edit the cell to ensure that it uses the `streaming_body_2` variable.</span>** The last code line before the comments should look like this:\n`streaming_body_2 = client_...`"
        },
        {
            "metadata": {},
            "cell_type": "code",
            "source": "",
            "execution_count": null,
            "outputs": []
        },
        {
            "metadata": {},
            "cell_type": "markdown",
            "source": "Run the next two cells to write the zip file to the notebook's local file system, and verify that it is available."
        },
        {
            "metadata": {},
            "cell_type": "code",
            "source": "with open(\"Demofiles2.zip\", \"wb\") as outfile :\n    outfile.write(BytesIO(streaming_body_2.read()).getbuffer())\n",
            "execution_count": null,
            "outputs": []
        },
        {
            "metadata": {
                "scrolled": true
            },
            "cell_type": "code",
            "source": "# List the content of the current directory of the local filesystem\n!ls -l ",
            "execution_count": null,
            "outputs": []
        },
        {
            "metadata": {},
            "cell_type": "markdown",
            "source": "## Extract the files from the local zipfile using Linux commands\n\nThe notebook environment provides access to Linux command line commands such as `ls`. You can execute them in code cells by adding a `!` to the beginning of the command, as you saw in the previous cell. As a challenge, see if you can use a standard Linux command in the cell below to extract files from **Demofile.zip**."
        },
        {
            "metadata": {},
            "cell_type": "code",
            "source": "",
            "execution_count": null,
            "outputs": []
        },
        {
            "metadata": {},
            "cell_type": "code",
            "source": "# List the content of the current directory from the local filesystem\n\n!ls -lR",
            "execution_count": null,
            "outputs": []
        },
        {
            "metadata": {},
            "cell_type": "code",
            "source": "# remove all files and directories from the current directory of the local filesystem\n!rm -rf *",
            "execution_count": null,
            "outputs": []
        },
        {
            "metadata": {},
            "cell_type": "markdown",
            "source": "## Accessing connected data as a Pandas dataframe\nA connected data asset behaves like a csv file. Place your cursor in the empty code cell below. If the **Data** window is not already open on the right side of the screen, click the **Find and add data** button in the upper right corner of the screen to open it. Select the **Files** tab, and use the **Insert to code** dropdown beneath the **TESTING** file to select **pandas DataFrame**. When you run the generated code, the notebook will print the first five rows of data from the connected **TESTING** asset, just like the first five rows of the CSV file you imported earlier."
        },
        {
            "metadata": {},
            "cell_type": "code",
            "source": "",
            "execution_count": null,
            "outputs": []
        },
        {
            "metadata": {},
            "cell_type": "markdown",
            "source": "### Notes on connected data\nYou can see in the previous cell that the username (uid) and password(pwd) are visible. This is why the database connection available to users should use a user that has the minimum access right needed to complete the task.\n\nIn this case, you have used a user with administrator privileges. This is fine in this example code, but should NEVER be used in any projects or in production.\n\nNote also that the cell starts with **`\"# @hidden_cell\"`**. This means that if the notebook\nis exported, the cell content won't be included."
        },
        {
            "metadata": {},
            "cell_type": "markdown",
            "source": "## Optional: Accessing masked data from the catalog\nThis section assumes you have completed the governance lab and have added the **`CUSTOMER`**\nconnected data asset from your catalog as mentioned in section 4 of the data access lab.\n\nInsert the CUSTOMER data as a Pandas dataframe in the next cell.\nTake a look at the last two columns."
        },
        {
            "metadata": {},
            "cell_type": "code",
            "source": "",
            "execution_count": null,
            "outputs": []
        },
        {
            "metadata": {},
            "cell_type": "markdown",
            "source": "### Important masked access notes:\nYou surely noticed that the masked data was visible after reading the connected data. This is because you are using the database connection directly. It is possible to preserve the data masking by using a data virtualization connection, but this is currently beyond the scope of this lab."
        }
    ],
    "metadata": {
        "kernelspec": {
            "name": "python3",
            "display_name": "Python 3.9",
            "language": "python"
        },
        "language_info": {
            "name": "python",
            "version": "3.9.13",
            "mimetype": "text/x-python",
            "codemirror_mode": {
                "name": "ipython",
                "version": 3
            },
            "pygments_lexer": "ipython3",
            "nbconvert_exporter": "python",
            "file_extension": ".py"
        }
    },
    "nbformat": 4,
    "nbformat_minor": 1
}