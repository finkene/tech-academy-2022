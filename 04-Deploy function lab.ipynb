{
    "cells": [
        {
            "cell_type": "markdown",
            "metadata": {},
            "source": "# Deploy a Python function\nThe code in this notebook has been adapted from <a href=\"https://dataplatform.cloud.ibm.com/exchange/public/entry/view/1eddc77b3a4340d68f762625d40b64f9?context=cpdaas&audience=wdp\">Use Python to recognize hand-written digits</a>.\n\nIn this notebook, you will create and deploy a Python function that calls an already deployed model. Before editing the notebook, you retrieved the `space_id` and `model_deployment_id` for the model you created in previous steps. It is possible to use Python code in a Jupyter notebook to retrieve this values, but that is outside the scope of this exercise.\n\nEdit the code in the cell below, assigning the correct values to `api_key`, `space_id`, and `model_deployment_id`. Then run the cells one at a time."
        },
        {
            "cell_type": "code",
            "execution_count": 1,
            "metadata": {},
            "outputs": [],
            "source": "api_key = 'GNQrm9fQyayJqA4fsYLD3VYmLgxMCccdKt4KNFjCBtG8'\nlocation = 'us-south'\n\nspace_id= \"698d3902-0283-4d2b-a8b8-fcca6e458679\"\nmodel_deployment_id = \"a2999222-260d-4606-a513-021c97c45175\""
        },
        {
            "cell_type": "code",
            "execution_count": 2,
            "metadata": {},
            "outputs": [],
            "source": "wml_credentials = {\n    \"apikey\": api_key,\n    \"url\": 'https://' + location + '.ml.cloud.ibm.com'\n}"
        },
        {
            "cell_type": "markdown",
            "metadata": {},
            "source": "## Install the IBM Watson Machine Learning library\n\nThe next cell uses the `pip` command to install the IBM Watson Machine Learning library. Though the library is available by default in all Watson Studio notebooks, the `-U` flag ensures that the most recent version is installed. The the output of the execution is redirected to a file in the notebook's local file systenm to limit what is displayed.\n\nIf you really want to see the output, create a new cell and execute the following command:\n```\n!cat wml_lib_install.out\n```"
        },
        {
            "cell_type": "code",
            "execution_count": 3,
            "metadata": {},
            "outputs": [],
            "source": "!pip install -U ibm-watson-machine-learning >wml_lib_install.out 2>&1"
        },
        {
            "cell_type": "markdown",
            "metadata": {},
            "source": "## Create a wml client connection\n\nTo use the Watson Machine Learning (WML) library, you much create a client connection. The code below will create the connection. If you receive an error from running this code, it is likely because you did not correctly assign a valid API key at the beginning of the notebook."
        },
        {
            "cell_type": "code",
            "execution_count": 4,
            "metadata": {},
            "outputs": [],
            "source": "from ibm_watson_machine_learning import APIClient\nimport requests\nimport json\n\nclient = APIClient(wml_credentials)"
        },
        {
            "cell_type": "markdown",
            "metadata": {},
            "source": "## Create a function that calls a model\n\nYou previously deployed a model named `attrition challenger - spark deployment`. The cell below defines a function called `attrition_function`. It contains two additional functions:\n- The `score` function is the execution point in the REST API call, and will call the deployed model.\n- The `reformat_output` function will take the output (prediction) from the model, and simplify it by removing some of the fields.\n\nSince both `score` and `reformat_output` are contained within `attrition_function`, `reformat_output` is accessible to `score` when it executes. Run the cell below to create the function definitions."
        },
        {
            "cell_type": "code",
            "execution_count": 5,
            "metadata": {},
            "outputs": [],
            "source": "params = {\n    \"wml_credentials\": wml_credentials, \n    \"space_id\": space_id, \n    \"model_deployment_id\": model_deployment_id\n}\n\ndef attrition_function( parms=params ):\n    def reformat_output(result) :\n        predictions = []\n        for pred in result['predictions'] :\n            fields=[\"probability\", \"prediction\"]\n            prob_index = pred[\"fields\"].index(\"probability\")\n            pred_index = pred[\"fields\"].index(\"prediction\")\n            values = [[item[prob_index][int(item[pred_index])], item[pred_index]] for item in pred[\"values\"]]\n            predictions.append( {\"fields\": fields, \"values\": values})\n\n        result2 = {\n            \"predictions\": predictions\n        }\n        return result2\n    \n    def score(payload):   \n        try:                 \n            from ibm_watson_machine_learning import APIClient\n            client       = APIClient(parms[\"wml_credentials\"])\n            client.set.default_space(parms[\"space_id\"])\n            model_result = client.deployments.score(parms[\"model_deployment_id\"], payload)\n            return reformat_output(model_result)\n        except Exception as e:\n            return {'predictions': [{'values': [repr(e)]}]}\n            #return {\"error\" : repr(e)}\n    return score"
        },
        {
            "cell_type": "markdown",
            "metadata": {},
            "source": "The cell below tests the function using some sample data. If you get an error message from executing this cell, it is likely because you did not correctly assign the `model_deployment_id` or the `space_id` at the beginning of the notebook. Executing the cell should print out a simplified model prediction containing only the prediction and probability."
        },
        {
            "cell_type": "code",
            "execution_count": 6,
            "metadata": {
                "scrolled": true
            },
            "outputs": [
                {
                    "name": "stdout",
                    "output_type": "stream",
                    "text": "{'predictions': [{'fields': ['probability', 'prediction'], 'values': [[0.9145364373814321, 0.0]]}]}\n"
                }
            ],
            "source": "# Test locally before deploying. This is useful for debugging\npayload = {\n    \"input_data\": [{\n        \"fields\": [\"POSITION_CODE\",\"DEPARTMENT_CODE\",\"DAYS_WITH_COMPANY\",\"COMMUTE_TIME\",\n                   \"AGE_BEGIN_PERIOD\",\"GENDER_CODE\",\"PERIOD_TOTAL_DAYS\",\"STARTING_SALARY\",\n                   \"ENDING_SALARY\",\"NB_INCREASES\",\"BONUS\",\"NB_BONUS\",\"VACATION_DAYS_TAKEN\",\n                   \"SICK_DAYS_TAKEN\",\"PROMOTIONS\",\"NB_MANAGERS\",\"DAYS_IN_POSITION\",\n                   \"DAYS_SINCE_LAST_RAISE\",\"RANKING_CODE\",\"OVERTIME\",\"DBLOVERTIME\",\"TRAVEL\"],\n        \"values\": [[4500.0,360.0,910.0,22.0,56.0,1.0,330.0,87307.69,94615.38,1.0,\n                    5676.9228,1.0,14.0,9.0,0.0,1.0,910.0,180.0,4.0,0.0,0.0,0.0]]\n                    }]\n}\nfunc_result = attrition_function()(payload)\nprint(func_result)"
        },
        {
            "cell_type": "markdown",
            "metadata": {},
            "source": "## Deploy the function\nNext, you will use the capabilities from the `ibm-watson-machine-learning` to deploy the function to a deployment space. Once the function has been deployed, it will have much of the same functionality as a deployed model; it can be called using a REST endpoint, and can be monitored by Watson Trust (OpenScale). See the <a href=\"https://cloud.ibm.com/apidocs/machine-learning-cp?code=python\">Watson Machine Learning</a> \ndocumentation for more details.\n\nRun the following two cells to deploy the function."
        },
        {
            "cell_type": "code",
            "execution_count": 7,
            "metadata": {},
            "outputs": [],
            "source": "client.set.default_space(space_id)\nsofware_spec_uid = client.software_specifications.get_id_by_name(\"runtime-22.1-py3.9\")\nmeta_data = {\n    client.repository.FunctionMetaNames.NAME: 'attrition function',\n    client.repository.FunctionMetaNames.SOFTWARE_SPEC_UID: sofware_spec_uid\n}\nfunction_details = client.repository.store_function(meta_props=meta_data, function=attrition_function)"
        },
        {
            "cell_type": "code",
            "execution_count": 8,
            "metadata": {},
            "outputs": [
                {
                    "name": "stdout",
                    "output_type": "stream",
                    "text": "\n\n#######################################################################################\n\nSynchronous deployment creation for uid: '2302eb59-5eab-4ea4-8780-2e55fcf887ad' started\n\n#######################################################################################\n\n\ninitializing\nNote: online_url is deprecated and will be removed in a future release. Use serving_urls instead.\n..\nready\n\n\n------------------------------------------------------------------------------------------------\nSuccessfully finished deployment creation, deployment_uid='8ce5d483-2413-4737-b457-ae2914982069'\n------------------------------------------------------------------------------------------------\n\n\n"
                }
            ],
            "source": "function_uid = client.repository.get_function_uid(function_details)\n# Deploy the stored function\n\nmetadata = {\n    client.deployments.ConfigurationMetaNames.NAME: \"attrition function\",\n    client.deployments.ConfigurationMetaNames.ONLINE: {}\n}\nfunction_deployment_details = client.deployments.create(function_uid, meta_props=metadata)"
        },
        {
            "cell_type": "markdown",
            "metadata": {},
            "source": "## Test the deployed function\n\nThe following cells test the newly-deployed function. Note that it uses information from the `function_deployment_details` variable defined in the cell above while deploying the function. If you were to come directly to this section, you would have to make additional calls to retrieve this information."
        },
        {
            "cell_type": "code",
            "execution_count": 9,
            "metadata": {},
            "outputs": [
                {
                    "name": "stdout",
                    "output_type": "stream",
                    "text": "Function deployment id: 8ce5d483-2413-4737-b457-ae2914982069\nEndpoint URL: https://us-south.ml.cloud.ibm.com/ml/v4/deployments/8ce5d483-2413-4737-b457-ae2914982069/predictions\n"
                }
            ],
            "source": "# Get the endpoint URL of the function deployment just created\nfunction_deployment_id = client.deployments.get_uid(function_deployment_details)\nfunction_deployment_endpoint_url = client.deployments.get_scoring_href(function_deployment_details)\nprint(\"Function deployment id: {}\".format(function_deployment_id))\nprint(\"Endpoint URL: {}\".format(function_deployment_endpoint_url))"
        },
        {
            "cell_type": "markdown",
            "metadata": {},
            "source": "### Get the data to score\n\nThe following cell retreives sample data from github to send to the function. The data is read into memory. \nYou could write the content to the notebook's local file system with:\n```\nr = requests.get(url)\nfile_name = url.split('/')[-1]\nwith open(file_name, \"wb\") as file:\n        file.write(r.content)\n```\nYou could then read the data from the notebook's local file system."
        },
        {
            "cell_type": "code",
            "execution_count": 10,
            "metadata": {},
            "outputs": [],
            "source": "# Same file we used in an earlier exercise\nurl = \"https://raw.githubusercontent.com/CloudPak-Outcomes/Outcomes-Projects/main/TrustedAI-L3-Tech-Lab/records_to_score.json\"\nr = requests.get(url)\npayload = json.loads(r.content.decode(\"utf-8\"))"
        },
        {
            "cell_type": "markdown",
            "metadata": {},
            "source": "### Execute the function and see the result"
        },
        {
            "cell_type": "code",
            "execution_count": 11,
            "metadata": {},
            "outputs": [
                {
                    "name": "stdout",
                    "output_type": "stream",
                    "text": "{'predictions': [{'fields': ['probability', 'prediction'], 'values': [[0.9145364373814321, 0.0], [0.9566298940491723, 1.0], [0.9655666518862813, 1.0], [0.8896671187930532, 1.0], [0.952045394245465, 1.0]]}]}\n"
                }
            ],
            "source": "result = client.deployments.score(function_deployment_id, payload)\nif \"error\" in result:\n    print(result[\"error\"])\nelse:\n    print(result)"
        },
        {
            "cell_type": "code",
            "execution_count": null,
            "metadata": {},
            "outputs": [],
            "source": ""
        }
    ],
    "metadata": {
        "kernelspec": {
            "display_name": "Python 3.9",
            "language": "python",
            "name": "python3"
        },
        "language_info": {
            "codemirror_mode": {
                "name": "ipython",
                "version": 3
            },
            "file_extension": ".py",
            "mimetype": "text/x-python",
            "name": "python",
            "nbconvert_exporter": "python",
            "pygments_lexer": "ipython3",
            "version": "3.9.13"
        }
    },
    "nbformat": 4,
    "nbformat_minor": 1
}