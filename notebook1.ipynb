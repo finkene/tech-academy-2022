{
 "cells": [
  {
   "cell_type": "code",
   "execution_count": 1,
   "id": "colored-wednesday",
   "metadata": {
    "id": "57b7f417-fd2a-4964-8870-163a220c4082",
    "tags": []
   },
   "outputs": [
    {
     "name": "stdout",
     "output_type": "stream",
     "text": [
      "Hello World\n"
     ]
    }
   ],
   "source": [
    "print(\"Hello World\")"
   ]
  },
  {
   "cell_type": "code",
   "execution_count": 1,
   "id": "tamil-substitute",
   "metadata": {
    "id": "53721c5b-4910-4c2e-bbe1-3f3e126c64b8",
    "tags": []
   },
   "outputs": [
    {
     "name": "stdout",
     "output_type": "stream",
     "text": [
      "This is a great day\n"
     ]
    }
   ],
   "source": [
    "print(\"This is a great day\")"
   ]
  },
  {
   "cell_type": "code",
   "execution_count": null,
   "id": "ceramic-butler",
   "metadata": {
    "id": "35227eae-97ff-41e9-a294-5ee667834d5d"
   },
   "outputs": [],
   "source": []
  }
 ],
 "metadata": {
  "kernelspec": {
   "display_name": "Python 3.9",
   "language": "python",
   "name": "python3"
  },
  "language_info": {
   "codemirror_mode": {
    "name": "ipython",
    "version": 3
   },
   "file_extension": ".py",
   "mimetype": "text/x-python",
   "name": "python",
   "nbconvert_exporter": "python",
   "pygments_lexer": "ipython3",
   "version": "3.9.7"
  }
 },
 "nbformat": 4,
 "nbformat_minor": 5
}
